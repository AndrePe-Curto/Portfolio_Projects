{
 "cells": [
  {
   "cell_type": "code",
   "execution_count": null,
   "metadata": {},
   "outputs": [],
   "source": [
    "import pandas as pd\n",
    "import os\n",
    "pd.set_option('display.max_columns', None)\n",
    "global df\n"
   ]
  },
  {
   "cell_type": "code",
   "execution_count": null,
   "metadata": {},
   "outputs": [],
   "source": [
    "def api_runner():\n",
    "    from requests import Request, Session\n",
    "    from requests.exceptions import ConnectionError, Timeout, TooManyRedirects\n",
    "    import json\n",
    "    \n",
    "    url = 'https://pro-api.coinmarketcap.com/v1/cryptocurrency/listings/latest'\n",
    "    parameters = {\n",
    "      'start':'1',\n",
    "      'limit':'15',\n",
    "      'convert':'USD'\n",
    "    }\n",
    "    headers = {\n",
    "      'Accepts': 'application/json',\n",
    "      'X-CMC_PRO_API_KEY': '5f2075b9-4319-450c-999f-f94f88b8505d',\n",
    "    }\n",
    "    \n",
    "    session = Session()\n",
    "    session.headers.update(headers)\n",
    "    \n",
    "    try:\n",
    "      response = session.get(url, params=parameters)\n",
    "      data = json.loads(response.text)\n",
    "      print(data)\n",
    "    except (ConnectionError, Timeout, TooManyRedirects) as e:\n",
    "      print(e)\n",
    "\n",
    "    df = pd.json_normalize(data['data'])\n",
    "    df['timestamp'] = pd.to_datetime('now')\n",
    "    df\n",
    "\n",
    "    if not os.path.isfile(r'C:\\Users\\PC\\Documents\\Mestrado\\Curso\\Python\\Automating Crypto\\API.csv'):\n",
    "       df.to_csv(r'C:\\Users\\PC\\Documents\\Mestrado\\Curso\\Python\\Automating Crypto\\API.csv', header='column_names')\n",
    "    else:\n",
    "       df.to_csv(r'C:\\Users\\PC\\Documents\\Mestrado\\Curso\\Python\\Automating Crypto\\API.csv', mode='a', header=False)\n",
    "\n",
    "  "
   ]
  },
  {
   "cell_type": "code",
   "execution_count": null,
   "metadata": {},
   "outputs": [],
   "source": [
    "\n",
    "from time import time\n",
    "from time import sleep\n",
    "\n",
    "for i in range(333):\n",
    "    api_runner()\n",
    "    print('API Runner completed')\n",
    "    sleep(60)\n",
    "exit()"
   ]
  },
  {
   "cell_type": "code",
   "execution_count": null,
   "metadata": {},
   "outputs": [],
   "source": [
    "df = pd.read_csv(r'C:\\Users\\PC\\Documents\\Mestrado\\Curso\\Python\\Automating Crypto\\API.csv')"
   ]
  },
  {
   "cell_type": "code",
   "execution_count": null,
   "metadata": {},
   "outputs": [],
   "source": [
    "pd.set_option('display.float_format', lambda x: '%.5f' % x)"
   ]
  },
  {
   "cell_type": "code",
   "execution_count": null,
   "metadata": {},
   "outputs": [],
   "source": [
    "df"
   ]
  },
  {
   "cell_type": "code",
   "execution_count": null,
   "metadata": {},
   "outputs": [],
   "source": [
    "df2=df.groupby('name', sort=False)[['quote.USD.percent_change_1h','quote.USD.percent_change_24h','quote.USD.percent_change_7d','quote.USD.percent_change_30d','quote.USD.percent_change_60d','quote.USD.percent_change_90d']].mean()\n",
    "df2"
   ]
  },
  {
   "cell_type": "code",
   "execution_count": null,
   "metadata": {},
   "outputs": [],
   "source": [
    "df3 = df2.stack()\n",
    "df3"
   ]
  },
  {
   "cell_type": "code",
   "execution_count": null,
   "metadata": {},
   "outputs": [],
   "source": [
    "df4 = df3.to_frame(name='values')\n",
    "df4 = df4.reset_index()\n",
    "df4"
   ]
  },
  {
   "cell_type": "code",
   "execution_count": null,
   "metadata": {},
   "outputs": [],
   "source": [
    "df4 = df4.rename(columns={'level_1': 'percent_change'})\n",
    "df4"
   ]
  },
  {
   "cell_type": "code",
   "execution_count": null,
   "metadata": {},
   "outputs": [],
   "source": [
    "df4['percent_change'] = df4['percent_change'].replace(\n",
    "    ['quote.USD.percent_change_1h', 'quote.USD.percent_change_24h',\n",
    "     'quote.USD.percent_change_7d', 'quote.USD.percent_change_30d',\n",
    "     'quote.USD.percent_change_60d', 'quote.USD.percent_change_90d'],\n",
    "    ['1h', '24h', '7d', '30d', '60d', '90d']\n",
    ")\n",
    "df4"
   ]
  },
  {
   "cell_type": "code",
   "execution_count": null,
   "metadata": {},
   "outputs": [],
   "source": [
    "import seaborn as sns\n",
    "import matplotlib.pyplot as plt"
   ]
  },
  {
   "cell_type": "code",
   "execution_count": null,
   "metadata": {},
   "outputs": [],
   "source": [
    "sns.catplot(x='percent_change', y='values', hue='name', data=df4, kind='point')"
   ]
  },
  {
   "cell_type": "code",
   "execution_count": null,
   "metadata": {},
   "outputs": [],
   "source": [
    "df5 = df[['name','quote.USD.price','timestamp']]\n",
    "df5 = df5.query(\"name == 'Bitcoin'\")\n",
    "df5"
   ]
  },
  {
   "cell_type": "code",
   "execution_count": null,
   "metadata": {},
   "outputs": [],
   "source": [
    "sns.set_theme(style=\"darkgrid\")\n",
    "\n",
    "sns.lineplot(x='timestamp',y='quote.USD.price',data = df5)"
   ]
  }
 ],
 "metadata": {
  "kernelspec": {
   "display_name": "Python 3 (ipykernel)",
   "language": "python",
   "name": "python3"
  },
  "language_info": {
   "codemirror_mode": {
    "name": "ipython",
    "version": 3
   },
   "file_extension": ".py",
   "mimetype": "text/x-python",
   "name": "python",
   "nbconvert_exporter": "python",
   "pygments_lexer": "ipython3",
   "version": "3.11.4"
  }
 },
 "nbformat": 4,
 "nbformat_minor": 4
}
